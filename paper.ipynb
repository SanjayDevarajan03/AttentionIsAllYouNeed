{
 "cells": [
  {
   "cell_type": "code",
   "execution_count": 3,
   "metadata": {},
   "outputs": [],
   "source": [
    "# Import required packages\n",
    "import pandas as pd\n",
    "import torch\n",
    "from torch import nn\n",
    "import numpy\n",
    "import os\n",
    "import transformers\n",
    "from transformers import AutoTokenizer\n",
    "import re\n"
   ]
  },
  {
   "cell_type": "code",
   "execution_count": 24,
   "metadata": {},
   "outputs": [
    {
     "name": "stdout",
     "output_type": "stream",
     "text": [
      "cpu\n"
     ]
    }
   ],
   "source": [
    "device = 'cpu' if torch.cuda.is_available() else \"cpu\"\n",
    "print(device)"
   ]
  },
  {
   "cell_type": "code",
   "execution_count": null,
   "metadata": {},
   "outputs": [],
   "source": [
    "num_heads = 8\n",
    "stack_len = 6\n",
    "batch_size = 8\n"
   ]
  },
  {
   "cell_type": "code",
   "execution_count": 18,
   "metadata": {},
   "outputs": [
    {
     "data": {
      "text/html": [
       "<div>\n",
       "<style scoped>\n",
       "    .dataframe tbody tr th:only-of-type {\n",
       "        vertical-align: middle;\n",
       "    }\n",
       "\n",
       "    .dataframe tbody tr th {\n",
       "        vertical-align: top;\n",
       "    }\n",
       "\n",
       "    .dataframe thead th {\n",
       "        text-align: right;\n",
       "    }\n",
       "</style>\n",
       "<table border=\"1\" class=\"dataframe\">\n",
       "  <thead>\n",
       "    <tr style=\"text-align: right;\">\n",
       "      <th></th>\n",
       "      <th>de</th>\n",
       "      <th>en</th>\n",
       "    </tr>\n",
       "  </thead>\n",
       "  <tbody>\n",
       "    <tr>\n",
       "      <th>0</th>\n",
       "      <td>An der B 211 befindet sich in Loyermoor der so...</td>\n",
       "      <td>Here the largest town of the district is locat...</td>\n",
       "    </tr>\n",
       "    <tr>\n",
       "      <th>1</th>\n",
       "      <td>Ich begrüße die Erklärung des Herrn Kommissar ...</td>\n",
       "      <td>I should like, in passing, to pay tribute to t...</td>\n",
       "    </tr>\n",
       "    <tr>\n",
       "      <th>2</th>\n",
       "      <td>Das ist das Gegenteil von dem, was getan werde...</td>\n",
       "      <td>That is the opposite of what should be done an...</td>\n",
       "    </tr>\n",
       "    <tr>\n",
       "      <th>3</th>\n",
       "      <td>.</td>\n",
       "      <td>.</td>\n",
       "    </tr>\n",
       "    <tr>\n",
       "      <th>4</th>\n",
       "      <td>The Ethnographical museum in Varna is in a hou...</td>\n",
       "      <td>It was designed by the Viennese architect Rupp...</td>\n",
       "    </tr>\n",
       "  </tbody>\n",
       "</table>\n",
       "</div>"
      ],
      "text/plain": [
       "                                                  de  \\\n",
       "0  An der B 211 befindet sich in Loyermoor der so...   \n",
       "1  Ich begrüße die Erklärung des Herrn Kommissar ...   \n",
       "2  Das ist das Gegenteil von dem, was getan werde...   \n",
       "3                                                  .   \n",
       "4  The Ethnographical museum in Varna is in a hou...   \n",
       "\n",
       "                                                  en  \n",
       "0  Here the largest town of the district is locat...  \n",
       "1  I should like, in passing, to pay tribute to t...  \n",
       "2  That is the opposite of what should be done an...  \n",
       "3                                                  .  \n",
       "4  It was designed by the Viennese architect Rupp...  "
      ]
     },
     "execution_count": 18,
     "metadata": {},
     "output_type": "execute_result"
    }
   ],
   "source": [
    "eg_df = pd.read_csv(\"/Users/sanjaydevarajan/Desktop/ML Projects/AttentionIsAllYouNeed/data/WMT 2014 English-German/wmt14_translate_de-en_train.csv\", encoding='utf-8',\n",
    "                    on_bad_lines='skip',\n",
    "                    engine='python')\n",
    "eg_df.head()"
   ]
  },
  {
   "cell_type": "code",
   "execution_count": 20,
   "metadata": {},
   "outputs": [
    {
     "data": {
      "text/plain": [
       "de     711\n",
       "en    1000\n",
       "dtype: int64"
      ]
     },
     "execution_count": 20,
     "metadata": {},
     "output_type": "execute_result"
    }
   ],
   "source": [
    "eg_df.isnull().sum()"
   ]
  },
  {
   "cell_type": "code",
   "execution_count": 23,
   "metadata": {},
   "outputs": [
    {
     "name": "stdout",
     "output_type": "stream",
     "text": [
      "<class 'pandas.core.frame.DataFrame'>\n",
      "RangeIndex: 4509785 entries, 0 to 4509784\n",
      "Data columns (total 2 columns):\n",
      " #   Column  Dtype \n",
      "---  ------  ----- \n",
      " 0   de      object\n",
      " 1   en      object\n",
      "dtypes: object(2)\n",
      "memory usage: 68.8+ MB\n"
     ]
    }
   ],
   "source": [
    "eg_df.info()"
   ]
  },
  {
   "cell_type": "code",
   "execution_count": null,
   "metadata": {},
   "outputs": [],
   "source": [
    "class PreProcessing:\n",
    "    def __init__(self, dataset):\n",
    "        self.dataset = dataset\n",
    "        self.en_tokenizer = AutoTokenizer.from_pretrained(\"bert-base-uncased\")\n",
    "        self.de_tokenizer = AutoTokenizer.from_pretrained(\"bert-base-german-cased\")\n",
    "\n",
    "    def normalize_text(self):\n",
    "        self.dataset[\"en_normalized\"] = self.en_tokenizer.backend_tokenizer.normalizer.normalize_str(self.dataset[\"en\"])\n",
    "        self.dataset[\"de_normalized\"] = self.de_tokenizer.backend_tokenizer.normalizer.normalize_str(self.dataset[\"de\"])\n",
    "\n",
    "    def \n",
    "       \n",
    "\n",
    "    "
   ]
  },
  {
   "cell_type": "code",
   "execution_count": null,
   "metadata": {},
   "outputs": [],
   "source": [
    "class BytePairEncoding:\n",
    "    def __init__(self):\n",
    "        super().__init__()\n",
    "\n",
    "        self.eng_token_count = {}\n",
    "        self."
   ]
  },
  {
   "cell_type": "code",
   "execution_count": null,
   "metadata": {},
   "outputs": [],
   "source": [
    "class GermanToEnglish(Dataset):\n",
    "    def __init__(self, csv_file root_dir, transform = None):\n",
    "        self.eg_frame = pd.csv(csv_file)"
   ]
  },
  {
   "cell_type": "code",
   "execution_count": null,
   "metadata": {},
   "outputs": [],
   "source": [
    "class Encoder(nn.Module):\n",
    "    def __init__(self):\n",
    "        super().__init__()\n",
    "        \n",
    "        "
   ]
  },
  {
   "cell_type": "code",
   "execution_count": 5,
   "metadata": {},
   "outputs": [],
   "source": [
    "class NeuralNetwork(nn.Module):\n",
    "    def __init__(self):\n",
    "        super().__init__()\n",
    "        self.flatten = nn.Flatten()\n",
    "        self.linear_relu_stack = nn.Sequential(\n",
    "            nn.Linear(28*28,512),\n",
    "            nn.ReLU(),\n",
    "            nn.Linear(512,512),\n",
    "            nn.ReLU(),\n",
    "            nn.Linear(512, 10)\n",
    "        )\n"
   ]
  },
  {
   "cell_type": "code",
   "execution_count": 14,
   "metadata": {},
   "outputs": [
    {
     "name": "stdout",
     "output_type": "stream",
     "text": [
      "tensor([[0.2174, 0.3270, 0.0031],\n",
      "        [0.2174, 0.3270, 0.0031],\n",
      "        [0.2174, 0.3270, 0.0031],\n",
      "        [0.2174, 0.3270, 0.0031],\n",
      "        [0.2174, 0.3270, 0.0031]])\n",
      "tensor([0.2174, 0.3270, 0.0031])\n"
     ]
    }
   ],
   "source": [
    "x = torch.ones(5)\n",
    "y = torch.zeros(3)\n",
    "w = torch.randn(5,3,requires_grad=True)\n",
    "b = torch.randn(3, requires_grad=True)\n",
    "z = torch.matmul(x, w) + b\n",
    "loss = torch.nn.functional.binary_cross_entropy_with_logits(z,y)\n",
    "loss.backward()\n",
    "print(w.grad)\n",
    "print(b.grad)"
   ]
  }
 ],
 "metadata": {
  "kernelspec": {
   "display_name": "venv",
   "language": "python",
   "name": "python3"
  },
  "language_info": {
   "codemirror_mode": {
    "name": "ipython",
    "version": 3
   },
   "file_extension": ".py",
   "mimetype": "text/x-python",
   "name": "python",
   "nbconvert_exporter": "python",
   "pygments_lexer": "ipython3",
   "version": "3.11.5"
  }
 },
 "nbformat": 4,
 "nbformat_minor": 2
}
